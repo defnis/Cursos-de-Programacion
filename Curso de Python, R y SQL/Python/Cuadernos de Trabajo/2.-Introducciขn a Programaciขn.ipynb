{
 "cells": [
  {
   "cell_type": "markdown",
   "id": "107f48ee-52a0-4c31-8616-62f0c6d08c44",
   "metadata": {},
   "source": [
    "# 2.-Introducción a la Programación con Python"
   ]
  },
  {
   "cell_type": "markdown",
   "id": "b4b3f36d-d890-4bbf-9a7d-d3b41fac5f28",
   "metadata": {},
   "source": [
    "## 2.2.- Operadores Aritméticos"
   ]
  },
  {
   "cell_type": "markdown",
   "id": "c4ef828e-4186-407b-ad79-ba97eed7c741",
   "metadata": {},
   "source": [
    "### 2.2.1.- Variables y asignaciones"
   ]
  },
  {
   "cell_type": "markdown",
   "id": "ea41ab63-e16c-49b9-83c6-d596c6d5bf1f",
   "metadata": {},
   "source": [
    "Ya has usado iPython de calculadora con expresiones como sumas"
   ]
  },
  {
   "cell_type": "code",
   "execution_count": 1,
   "id": "41ca1908-31b9-4400-bde9-859935737dbf",
   "metadata": {},
   "outputs": [
    {
     "data": {
      "text/plain": [
       "50"
      ]
     },
     "execution_count": 1,
     "metadata": {},
     "output_type": "execute_result"
    }
   ],
   "source": [
    "25 +25"
   ]
  },
  {
   "cell_type": "markdown",
   "id": "67de4824-f60b-42ad-94c0-88ef30c200f7",
   "metadata": {},
   "source": [
    "Creemos una variable w que valga 39"
   ]
  },
  {
   "cell_type": "code",
   "execution_count": 2,
   "id": "8bc4f8d0-21dc-49ab-9dcc-3f3cff6dcad1",
   "metadata": {},
   "outputs": [],
   "source": [
    "w=39"
   ]
  },
  {
   "cell_type": "code",
   "execution_count": 3,
   "id": "7bbd9cf7-1155-4e34-a91a-aa24460eb51f",
   "metadata": {},
   "outputs": [
    {
     "data": {
      "text/plain": [
       "39"
      ]
     },
     "execution_count": 3,
     "metadata": {},
     "output_type": "execute_result"
    }
   ],
   "source": [
    "w"
   ]
  },
  {
   "cell_type": "markdown",
   "id": "9c91670c-5e61-498d-98b5-ffed9823c035",
   "metadata": {},
   "source": [
    "Es útil realizar estas declaraciones, ya que las declaraciones permiten almacenar valores que pueden ser útiles posteriormente. Por ejemplo:"
   ]
  },
  {
   "cell_type": "code",
   "execution_count": 4,
   "id": "f99306ff-a0fa-4337-b651-0153f28dd099",
   "metadata": {},
   "outputs": [
    {
     "data": {
      "text/plain": [
       "22"
      ]
     },
     "execution_count": 4,
     "metadata": {},
     "output_type": "execute_result"
    }
   ],
   "source": [
    "z=22\n",
    "z"
   ]
  },
  {
   "cell_type": "code",
   "execution_count": 5,
   "id": "aea3bd86-29ed-4b4e-8a54-0d3c96ad348b",
   "metadata": {},
   "outputs": [
    {
     "data": {
      "text/plain": [
       "61"
      ]
     },
     "execution_count": 5,
     "metadata": {},
     "output_type": "execute_result"
    }
   ],
   "source": [
    "w+z"
   ]
  },
  {
   "cell_type": "markdown",
   "id": "c4545a41-a888-4f8f-abd8-2db07631a346",
   "metadata": {},
   "source": [
    "Continuando con esta forma de declarar las variables, también podemos asignar"
   ]
  },
  {
   "cell_type": "code",
   "execution_count": 6,
   "id": "cbf482f5-cbbd-4ea4-bc2c-99b6e62be741",
   "metadata": {},
   "outputs": [
    {
     "data": {
      "text/plain": [
       "1.7727272727272727"
      ]
     },
     "execution_count": 6,
     "metadata": {},
     "output_type": "execute_result"
    }
   ],
   "source": [
    "division = w/z\n",
    "division"
   ]
  },
  {
   "cell_type": "markdown",
   "id": "d115b081-5d07-49e9-b258-92ff1171045d",
   "metadata": {},
   "source": [
    "Observa lo que ocurre si escribes"
   ]
  },
  {
   "cell_type": "code",
   "execution_count": 7,
   "id": "9fb52bea-5cd2-4da1-a8bd-36271b55caa3",
   "metadata": {},
   "outputs": [
    {
     "ename": "NameError",
     "evalue": "name 'Division' is not defined",
     "output_type": "error",
     "traceback": [
      "\u001b[0;31m---------------------------------------------------------------------------\u001b[0m",
      "\u001b[0;31mNameError\u001b[0m                                 Traceback (most recent call last)",
      "\u001b[1;32m/Users/defnis/Library/Mobile Documents/com~apple~CloudDocs/Cursos de Programacion/Curso de Python, R y SQL/Python/Cuadernos de Trabajo/2.-Introducciขn a Programaciขn.ipynb Cell 15'\u001b[0m in \u001b[0;36m<cell line: 1>\u001b[0;34m()\u001b[0m\n\u001b[0;32m----> <a href='vscode-notebook-cell:/Users/defnis/Library/Mobile%20Documents/com~apple~CloudDocs/Cursos%20de%20Programacion/Curso%20de%20Python%2C%20R%20y%20SQL/Python/Cuadernos%20de%20Trabajo/2.-Introducci%E0%B8%82n%20a%20Programaci%E0%B8%82n.ipynb#ch0000016?line=0'>1</a>\u001b[0m Division\n",
      "\u001b[0;31mNameError\u001b[0m: name 'Division' is not defined"
     ]
    }
   ],
   "source": [
    "Division"
   ]
  },
  {
   "cell_type": "markdown",
   "id": "10b311be-a87f-48fe-ac68-fd758a6531d5",
   "metadata": {},
   "source": [
    "¿De qué tipo es la variable división?. Teclea type(división)"
   ]
  },
  {
   "cell_type": "code",
   "execution_count": 8,
   "id": "6f9311d2-bbe9-4fb5-8ed9-7391b69b344a",
   "metadata": {},
   "outputs": [
    {
     "data": {
      "text/plain": [
       "float"
      ]
     },
     "execution_count": 8,
     "metadata": {},
     "output_type": "execute_result"
    }
   ],
   "source": [
    "type(division)"
   ]
  },
  {
   "cell_type": "markdown",
   "id": "a8787aa5-1a17-4584-895a-af65cc8caccc",
   "metadata": {},
   "source": [
    " Python reconoce a la variable w como un entero."
   ]
  },
  {
   "cell_type": "code",
   "execution_count": 9,
   "id": "afe037f0-de37-41e2-953d-d844e0a80fda",
   "metadata": {},
   "outputs": [
    {
     "data": {
      "text/plain": [
       "int"
      ]
     },
     "execution_count": 9,
     "metadata": {},
     "output_type": "execute_result"
    }
   ],
   "source": [
    "type(w)"
   ]
  },
  {
   "cell_type": "markdown",
   "id": "005e7373-42db-4a0d-adfd-9bbce8142a24",
   "metadata": {},
   "source": [
    "#### Por tu cuenta\n",
    "\n",
    "Calcula la suma de 10.8, 12.2 y 0.2, guardala en una variable llamada b, y muestra la variable"
   ]
  },
  {
   "cell_type": "code",
   "execution_count": 10,
   "id": "b311d94d-52f6-4118-a6aa-76bea95587ab",
   "metadata": {},
   "outputs": [
    {
     "data": {
      "text/plain": [
       "23.2"
      ]
     },
     "execution_count": 10,
     "metadata": {},
     "output_type": "execute_result"
    }
   ],
   "source": [
    "b = 10.8 + 12.2 + 0.2\n",
    "b"
   ]
  },
  {
   "cell_type": "markdown",
   "id": "9465c9ba-b34b-429a-8881-36d24df64a7e",
   "metadata": {},
   "source": [
    "### 2.2.2.- Aritmetica"
   ]
  },
  {
   "cell_type": "markdown",
   "id": "7b42b218-4742-47d9-b736-e98261be0587",
   "metadata": {},
   "source": [
    "##### Multiplicación \n",
    "\n",
    "Realiza un 7 * 4"
   ]
  },
  {
   "cell_type": "code",
   "execution_count": 11,
   "id": "6b91ef2e-d2e0-4b02-8f26-0711925b0776",
   "metadata": {},
   "outputs": [
    {
     "data": {
      "text/plain": [
       "28"
      ]
     },
     "execution_count": 11,
     "metadata": {},
     "output_type": "execute_result"
    }
   ],
   "source": [
    "7*4"
   ]
  },
  {
   "cell_type": "markdown",
   "id": "6d23d001-7a4c-4145-b914-2f82ed77037a",
   "metadata": {},
   "source": [
    "##### Exponenciación\n",
    "\n",
    "Realiza un 2 ** 4"
   ]
  },
  {
   "cell_type": "code",
   "execution_count": 13,
   "id": "9099f0a2-8c8a-43bb-89f7-1777ad5ffcad",
   "metadata": {},
   "outputs": [
    {
     "data": {
      "text/plain": [
       "16"
      ]
     },
     "execution_count": 13,
     "metadata": {},
     "output_type": "execute_result"
    }
   ],
   "source": [
    "2**4"
   ]
  },
  {
   "cell_type": "markdown",
   "id": "7221d3fd-6edd-4646-960e-5234eb1224cb",
   "metadata": {},
   "source": [
    "##### División Verdadera\n",
    "\n",
    "Divide 8/5"
   ]
  },
  {
   "cell_type": "code",
   "execution_count": 14,
   "id": "956eaff7-044d-4321-9117-9c79838fdfe9",
   "metadata": {},
   "outputs": [
    {
     "data": {
      "text/plain": [
       "1.6"
      ]
     },
     "execution_count": 14,
     "metadata": {},
     "output_type": "execute_result"
    }
   ],
   "source": [
    "8/5"
   ]
  },
  {
   "cell_type": "markdown",
   "id": "acd82688-1da7-4d4b-8770-a2c8cf1a9959",
   "metadata": {},
   "source": [
    "##### División de piso\n",
    "\n",
    "Divide 20//6 - verás como te da un rsultado entero"
   ]
  },
  {
   "cell_type": "code",
   "execution_count": 15,
   "id": "5bdd55d8-2a08-49b5-80bd-98c741b5b3a1",
   "metadata": {},
   "outputs": [
    {
     "data": {
      "text/plain": [
       "3"
      ]
     },
     "execution_count": 15,
     "metadata": {},
     "output_type": "execute_result"
    }
   ],
   "source": [
    "20//6"
   ]
  },
  {
   "cell_type": "markdown",
   "id": "7c5a2f8a-d79d-40f6-a019-ac2ad4e176b8",
   "metadata": {},
   "source": [
    "##### Restante\n",
    "\n",
    "Ahora obten el restante de dividir 26 / 8 usando el operador %"
   ]
  },
  {
   "cell_type": "code",
   "execution_count": 16,
   "id": "06df6019-2880-42da-bc70-e8fe75b8085f",
   "metadata": {},
   "outputs": [
    {
     "data": {
      "text/plain": [
       "2"
      ]
     },
     "execution_count": 16,
     "metadata": {},
     "output_type": "execute_result"
    }
   ],
   "source": [
    "26%8"
   ]
  },
  {
   "cell_type": "markdown",
   "id": "7b682671-bc7b-4e34-8fe8-7b9034a43bc9",
   "metadata": {},
   "source": [
    "##### División de piso\n",
    "\n",
    "Divide 20//6 - verás como te da un resultado entero"
   ]
  },
  {
   "cell_type": "code",
   "execution_count": 17,
   "id": "e74bf267-cecf-4e6c-99ff-8e40b2aac32a",
   "metadata": {},
   "outputs": [
    {
     "data": {
      "text/plain": [
       "3"
      ]
     },
     "execution_count": 17,
     "metadata": {},
     "output_type": "execute_result"
    }
   ],
   "source": [
    "20//6"
   ]
  },
  {
   "cell_type": "markdown",
   "id": "3259cdcb-13a8-40c6-99fa-bd6611dabc99",
   "metadata": {},
   "source": [
    "##### Agrupación con parentesis\n",
    "\n",
    "Checa que python respeta la jerarquia de operaciones"
   ]
  },
  {
   "cell_type": "code",
   "execution_count": 18,
   "id": "15f252d5-a478-49d9-b98e-01630d77d227",
   "metadata": {},
   "outputs": [
    {
     "data": {
      "text/plain": [
       "121"
      ]
     },
     "execution_count": 18,
     "metadata": {},
     "output_type": "execute_result"
    }
   ],
   "source": [
    "(3+8)**2"
   ]
  },
  {
   "cell_type": "markdown",
   "id": "f280f822-c9b1-4c44-91a3-c6a18ee83f2b",
   "metadata": {},
   "source": [
    "#### Por tu cuenta\n",
    "\n",
    "Evalua la expresión 3*(4-5) con y sin parentesis. Son los paréntesis redundantes?"
   ]
  },
  {
   "cell_type": "code",
   "execution_count": 20,
   "id": "0c334b99",
   "metadata": {},
   "outputs": [],
   "source": [
    "a = 3*(4-5)\n",
    "b = 3*4-5"
   ]
  },
  {
   "cell_type": "code",
   "execution_count": 22,
   "id": "9c188245",
   "metadata": {},
   "outputs": [
    {
     "data": {
      "text/plain": [
       "-3"
      ]
     },
     "execution_count": 22,
     "metadata": {},
     "output_type": "execute_result"
    }
   ],
   "source": [
    "a"
   ]
  },
  {
   "cell_type": "code",
   "execution_count": 23,
   "metadata": {},
   "outputs": [
    {
     "data": {
      "text/plain": [
       "7"
      ]
     },
     "execution_count": 23,
     "metadata": {},
     "output_type": "execute_result"
    }
   ],
   "source": [
    "b"
   ]
  },
  {
   "cell_type": "markdown",
   "id": "fc5d8121-3fa3-42e7-beb4-bee00ea356c4",
   "metadata": {},
   "source": [
    "---"
   ]
  },
  {
   "cell_type": "markdown",
   "id": "fcbe6ca4-24fd-4150-b7bb-f870814b662e",
   "metadata": {},
   "source": [
    "## 2.3.- Función print, arreglos con comillas simples y dobles comillas"
   ]
  },
  {
   "cell_type": "markdown",
   "id": "d5b0476e-8651-4ade-acbe-5a03a0866865",
   "metadata": {},
   "source": [
    "### 2.3.1.- La función Print"
   ]
  },
  {
   "cell_type": "markdown",
   "id": "18ca616b-3a2c-4184-8381-3a5e6a970e8d",
   "metadata": {},
   "source": [
    "ejecuta el siguiente snippet\n",
    "\n",
    "**print(“Hoy aprenderé a usar la función print”)**"
   ]
  },
  {
   "cell_type": "code",
   "execution_count": 30,
   "id": "058c39e6-75ad-4a4a-b97c-44dc1d4bd4cc",
   "metadata": {},
   "outputs": [
    {
     "ename": "SyntaxError",
     "evalue": "invalid character '“' (U+201C) (4261761828.py, line 1)",
     "output_type": "error",
     "traceback": [
      "\u001b[0;36m  Input \u001b[0;32mIn [30]\u001b[0;36m\u001b[0m\n\u001b[0;31m    print(“Hoy aprenderé a usar la función print”)\u001b[0m\n\u001b[0m          ^\u001b[0m\n\u001b[0;31mSyntaxError\u001b[0m\u001b[0;31m:\u001b[0m invalid character '“' (U+201C)\n"
     ]
    }
   ],
   "source": [
    "print(“Hoy aprenderé a usar la función print”)"
   ]
  },
  {
   "cell_type": "code",
   "execution_count": 29,
   "id": "cd3ab393-c28b-4d4c-aac9-23ea0389ef07",
   "metadata": {},
   "outputs": [
    {
     "ename": "SyntaxError",
     "evalue": "invalid character '“' (U+201C) (2531557381.py, line 1)",
     "output_type": "error",
     "traceback": [
      "\u001b[0;36m  Input \u001b[0;32mIn [29]\u001b[0;36m\u001b[0m\n\u001b[0;31m    print(“Hoy aprendere a usar la función imprimir”)\u001b[0m\n\u001b[0m          ^\u001b[0m\n\u001b[0;31mSyntaxError\u001b[0m\u001b[0;31m:\u001b[0m invalid character '“' (U+201C)\n"
     ]
    }
   ],
   "source": [
    "print(“Hoy aprendere a usar la función imprimir”)"
   ]
  },
  {
   "cell_type": "code",
   "execution_count": 27,
   "id": "a4e5ff50",
   "metadata": {},
   "outputs": [
    {
     "name": "stdout",
     "output_type": "stream",
     "text": [
      "HOy\n"
     ]
    }
   ],
   "source": [
    "print('HOy')"
   ]
  },
  {
   "cell_type": "code",
   "execution_count": 28,
   "id": "667a739c",
   "metadata": {},
   "outputs": [
    {
     "name": "stdout",
     "output_type": "stream",
     "text": [
      "hoy\n"
     ]
    }
   ],
   "source": [
    "print(\"hoy\")"
   ]
  },
  {
   "cell_type": "markdown",
   "id": "8269f4b5-ae18-416f-be14-a05d1da536e2",
   "metadata": {},
   "source": [
    "Ahora Ejecuta\n",
    "\n",
    "**Print(“Hoy aprenderé a usar la función print”)**"
   ]
  },
  {
   "cell_type": "code",
   "execution_count": 31,
   "id": "8100353f-2679-469d-b979-46a710dac3a0",
   "metadata": {},
   "outputs": [
    {
     "name": "stdout",
     "output_type": "stream",
     "text": [
      "Hoy aprendere a usar la funsion rpint\n"
     ]
    }
   ],
   "source": [
    "print(\"Hoy aprendere a usar la funsion rpint\")"
   ]
  },
  {
   "cell_type": "markdown",
   "id": "63a86fc8-6aee-4501-8474-4b11c0cdd7e6",
   "metadata": {},
   "source": [
    "Por ejemplo, para declarar el arreglo\n",
    "Hoy aprenderé a usar la función ‘print’"
   ]
  },
  {
   "cell_type": "code",
   "execution_count": 32,
   "id": "7318b4d4",
   "metadata": {},
   "outputs": [
    {
     "name": "stdout",
     "output_type": "stream",
     "text": [
      "Hoy aprendere a usar 'print'\n"
     ]
    }
   ],
   "source": [
    "print(\"Hoy aprendere a usar 'print'\")"
   ]
  },
  {
   "cell_type": "markdown",
   "id": "36f2a965-9b25-4353-9af0-ae233e25fbe8",
   "metadata": {},
   "source": [
    "**print(“Hoy aprenderé a usar la función ‘print’”)**"
   ]
  },
  {
   "cell_type": "code",
   "execution_count": 33,
   "id": "45a00297-3508-4bf3-aa5b-dff48ff9fe2d",
   "metadata": {},
   "outputs": [
    {
     "name": "stdout",
     "output_type": "stream",
     "text": [
      "Hoy aprendere a usar 'print'\n"
     ]
    }
   ],
   "source": [
    "print(\"Hoy aprendere a usar 'print'\")"
   ]
  },
  {
   "cell_type": "markdown",
   "id": "bde0dc8c-4eaf-4745-99f3-28da569395a3",
   "metadata": {},
   "source": [
    "### 2.3.1.- Triples comillas\n",
    "\n",
    "Esto se resuelve utilizando dobles comillas"
   ]
  },
  {
   "cell_type": "code",
   "execution_count": 34,
   "id": "e0fdec45-8cb7-4be5-994c-87eef67685d9",
   "metadata": {},
   "outputs": [
    {
     "name": "stdout",
     "output_type": "stream",
     "text": [
      "Hoy aprendere a \"usar\" la funcion print\n"
     ]
    }
   ],
   "source": [
    "print(\"\"\"Hoy aprendere a \"usar\" la funcion print\"\"\")"
   ]
  },
  {
   "cell_type": "markdown",
   "id": "ea86c6b8-771a-4617-9fec-a93916e87a53",
   "metadata": {},
   "source": [
    "Esta diferencia será más obvia cuando trabajemos líneas de texto en el ambiente de JupyterLab.\n",
    "Otras opciones para insertar texto el prompt de Anaconda son\n",
    "\n",
    "**print(‘Hoy aprenderé’,’a usar’, ‘la función print’)**\n",
    "\n",
    "**print(‘Hoy aprenderé\\n a usar\\n la función print’)**\n",
    "\n",
    "\n",
    "print(‘También aprenderé a dividir \\\n",
    "\n",
    "…: líneas de texto cuando las expresiones \\\n",
    "\n",
    "…: sean demasiado largas’)"
   ]
  },
  {
   "cell_type": "code",
   "execution_count": 35,
   "id": "fe21f618-e1aa-450a-a732-ac880a71eaba",
   "metadata": {},
   "outputs": [
    {
     "name": "stdout",
     "output_type": "stream",
     "text": [
      "Hoy aprendere a usar print\n"
     ]
    }
   ],
   "source": [
    "print(\"Hoy aprendere\",'a usar','print')"
   ]
  },
  {
   "cell_type": "code",
   "execution_count": 37,
   "id": "c6db0446-e2b8-4222-8607-613a16ff8329",
   "metadata": {},
   "outputs": [
    {
     "name": "stdout",
     "output_type": "stream",
     "text": [
      "Hoy aprendere\n",
      " a usar\n",
      " print\n"
     ]
    }
   ],
   "source": [
    "print('Hoy aprendere\\n a usar\\n print')"
   ]
  },
  {
   "cell_type": "code",
   "execution_count": 38,
   "id": "e478be1c-2a17-4323-9e34-48b79dd5bcbc",
   "metadata": {},
   "outputs": [
    {
     "name": "stdout",
     "output_type": "stream",
     "text": [
      "Tambien aprenderee    a separar las liesas    entre texto\n"
     ]
    }
   ],
   "source": [
    "print('Tambien aprenderee\\\n",
    "    a separar las liesas\\\n",
    "    entre texto')"
   ]
  },
  {
   "cell_type": "markdown",
   "id": "da8ab0c5-ed69-491b-b0c3-b951eab1b304",
   "metadata": {},
   "source": [
    "Cuando requieras utilizar comillas dobles y sencillas en algún enunciado, por ejemplo\n",
    "\n",
    "Aprender ‘Python’, es realmente “sencillo”\n",
    "\n",
    "Es posible hacerlo utilizando triples comillas"
   ]
  },
  {
   "cell_type": "code",
   "execution_count": 42,
   "id": "610e6493-a12e-4519-a32e-a79194139457",
   "metadata": {},
   "outputs": [
    {
     "name": "stdout",
     "output_type": "stream",
     "text": [
      "Aprender 'Python' es realmente \"sencillo\" grd\n"
     ]
    }
   ],
   "source": [
    "print(\"\"\"Aprender 'Python' es realmente \"sencillo\" grd\"\"\")"
   ]
  },
  {
   "cell_type": "markdown",
   "id": "13741755-cfd3-4ced-bd60-8722bc73c0d2",
   "metadata": {},
   "source": [
    "Con Python, puedes asignar a una variable un arreglo de caracteres\n",
    "\n",
    "**arreglo1=‘Hoy aprenderé a usar la función print’**"
   ]
  },
  {
   "cell_type": "code",
   "execution_count": 43,
   "id": "a825385d-73b8-4468-8bd3-594a5d7d6abe",
   "metadata": {},
   "outputs": [
    {
     "data": {
      "text/plain": [
       "'Hoy aprendere a usar \"Python\"'"
      ]
     },
     "execution_count": 43,
     "metadata": {},
     "output_type": "execute_result"
    }
   ],
   "source": [
    "areglo1='Hoy aprendere a usar \"Python\"'\n",
    "areglo1"
   ]
  },
  {
   "cell_type": "markdown",
   "id": "3b14599d-02fb-4c28-8dfd-b27b01ee8e28",
   "metadata": {},
   "source": [
    "Con estas herramientas, ya puedes mostrar los resultados de los cálculos en una forma más amigable\n",
    "\n",
    "Arma un programa que divida 2 variables y devuelva \"w elevado a la z da por resultado y\""
   ]
  },
  {
   "cell_type": "code",
   "execution_count": 45,
   "id": "6e2e6bd5-ccdc-4dad-9a3b-a98149839106",
   "metadata": {},
   "outputs": [
    {
     "name": "stdout",
     "output_type": "stream",
     "text": [
      "W elevado a la Z de por resultado 584318301411328\n"
     ]
    },
    {
     "data": {
      "text/plain": [
       "<function print>"
      ]
     },
     "execution_count": 45,
     "metadata": {},
     "output_type": "execute_result"
    }
   ],
   "source": [
    "w=22\n",
    "z=11\n",
    "y = w**z\n",
    "print(\"W elevado a la Z de por resultado\", y)\n",
    "print"
   ]
  },
  {
   "cell_type": "markdown",
   "id": "b4585070-9949-427a-84f5-ccf0a3a7f9a1",
   "metadata": {},
   "source": [
    "### 2.3.1.- Obtener input del usuario\n",
    "\n",
    "Input que solicita al usuario la información específica que debe ingresar al programa\n",
    "\n",
    "**nombre=input(‘¿Cuál es tu nombre?’)**"
   ]
  },
  {
   "cell_type": "code",
   "execution_count": 46,
   "id": "371649c1-a963-41d4-8025-670791d36f73",
   "metadata": {},
   "outputs": [
    {
     "data": {
      "text/plain": [
       "'Jose'"
      ]
     },
     "execution_count": 46,
     "metadata": {},
     "output_type": "execute_result"
    }
   ],
   "source": [
    "nombre=input(\"Cual es tu nombre?\")\n",
    "nombre"
   ]
  },
  {
   "cell_type": "code",
   "execution_count": 47,
   "id": "cc70c163-f2cd-46e3-b49d-4dbe789155be",
   "metadata": {},
   "outputs": [
    {
     "data": {
      "text/plain": [
       "'Waiman'"
      ]
     },
     "execution_count": 47,
     "metadata": {},
     "output_type": "execute_result"
    }
   ],
   "source": [
    "apellido=input(\"Cual es tu apellido?\")\n",
    "apellido"
   ]
  },
  {
   "cell_type": "code",
   "execution_count": 51,
   "id": "b03fec57",
   "metadata": {},
   "outputs": [
    {
     "name": "stdout",
     "output_type": "stream",
     "text": [
      "Jose Waiman\n"
     ]
    }
   ],
   "source": [
    "print(nombre + \" \"  +apellido)"
   ]
  },
  {
   "cell_type": "markdown",
   "id": "a853d83c-f42c-4ed3-83eb-2f76d179f626",
   "metadata": {},
   "source": [
    "Posteriormente puedes llamar a la variable nombre"
   ]
  },
  {
   "cell_type": "markdown",
   "id": "f4591abb-8139-466e-a48b-cda83af1bd14",
   "metadata": {},
   "source": [
    "Por default, Python guarda las entradas que recibe del comando input como un arreglo. Checa el type en cuestión"
   ]
  },
  {
   "cell_type": "code",
   "execution_count": 52,
   "id": "cd0ea52b-96b1-4fcd-8be9-322e95a877aa",
   "metadata": {},
   "outputs": [
    {
     "data": {
      "text/plain": [
       "str"
      ]
     },
     "execution_count": 52,
     "metadata": {},
     "output_type": "execute_result"
    }
   ],
   "source": [
    "type(nombre)"
   ]
  },
  {
   "cell_type": "code",
   "execution_count": 53,
   "id": "ea6ada1e-490b-497a-927a-f338f9b424c9",
   "metadata": {},
   "outputs": [
    {
     "data": {
      "text/plain": [
       "str"
      ]
     },
     "execution_count": 53,
     "metadata": {},
     "output_type": "execute_result"
    }
   ],
   "source": [
    "type(apellido)"
   ]
  },
  {
   "cell_type": "code",
   "execution_count": 54,
   "id": "2061bcfa-a08c-464d-a777-65cc0e455151",
   "metadata": {},
   "outputs": [
    {
     "data": {
      "text/plain": [
       "int"
      ]
     },
     "execution_count": 54,
     "metadata": {},
     "output_type": "execute_result"
    }
   ],
   "source": [
    "type(y)"
   ]
  },
  {
   "cell_type": "markdown",
   "id": "5a50edd7-4634-4c10-a0f9-e2a3fb07cd84",
   "metadata": {},
   "source": [
    "Arma un programa que te pida 2 números y los sume"
   ]
  },
  {
   "cell_type": "code",
   "execution_count": 65,
   "id": "74947eed-8b26-4a2a-9c0e-567bd73988b7",
   "metadata": {},
   "outputs": [
    {
     "name": "stdout",
     "output_type": "stream",
     "text": [
      "1212\n"
     ]
    }
   ],
   "source": [
    "x=input('numero1')\n",
    "y=input('numero2')\n",
    "print(x+y)"
   ]
  },
  {
   "cell_type": "markdown",
   "id": "69fe69ee-445e-424c-bcd1-8af19b75ef4e",
   "metadata": {},
   "source": [
    "No se pudo, para que python pueda hay que usar **int()**"
   ]
  },
  {
   "cell_type": "code",
   "execution_count": 67,
   "id": "8dc93858-923a-41b8-b179-6025fd33878f",
   "metadata": {},
   "outputs": [
    {
     "name": "stdout",
     "output_type": "stream",
     "text": [
      "24\n"
     ]
    }
   ],
   "source": [
    "x=int(input('numero1'))\n",
    "y=int(input('numero2'))\n",
    "print(x+y)"
   ]
  },
  {
   "cell_type": "markdown",
   "id": "715564fc-75c1-4dd4-b115-89e1763246a4",
   "metadata": {},
   "source": [
    "#### Por tu cuenta\n",
    "\n",
    "Usa float() para convertir \"6.2\" (una cadena) a un valor flotante"
   ]
  },
  {
   "cell_type": "code",
   "execution_count": 69,
   "id": "62e04f9b-7f4f-4a24-a17b-3a9210c6a8ce",
   "metadata": {},
   "outputs": [
    {
     "name": "stdout",
     "output_type": "stream",
     "text": [
      "6.2\n"
     ]
    }
   ],
   "source": [
    "x=float('6.2')\n",
    "print(x)"
   ]
  },
  {
   "cell_type": "markdown",
   "id": "ff47d95b-02aa-4c5a-a539-df106c393c09",
   "metadata": {},
   "source": [
    "---"
   ]
  },
  {
   "cell_type": "markdown",
   "id": "02620ade-789c-4784-a14b-47095b74f033",
   "metadata": {},
   "source": [
    "## 2.4.- Primeros Programas con python"
   ]
  },
  {
   "cell_type": "markdown",
   "id": "056407e5-1261-49e1-81cc-d56e3107abb6",
   "metadata": {},
   "source": [
    "Ejecuta el script ejemplo1_c2.py"
   ]
  },
  {
   "cell_type": "markdown",
   "id": "233bebf3-995f-47cb-9c2b-8ff13c938a44",
   "metadata": {},
   "source": [
    "Recuerda que en python también podemos hacer comparaciones mayor y menor que"
   ]
  },
  {
   "cell_type": "markdown",
   "id": "3bffa3af-3dd7-4672-94d1-bbe18ae7247e",
   "metadata": {},
   "source": [
    "Y que también, para cehcar si algo es igual, se usa =="
   ]
  },
  {
   "cell_type": "code",
   "execution_count": 70,
   "id": "f452cf39-21cd-4b35-aa13-48b1604cc5d2",
   "metadata": {},
   "outputs": [
    {
     "name": "stdout",
     "output_type": "stream",
     "text": [
      "Ingresa tu edad y la de tu mejor amigo, para decirte la relación qué hay entre ellas \n",
      "38  es diferente de 36 \n",
      " Tu amigo y tú tienen edades diferentes.\n",
      "38  es mayor que 36 \n",
      " Tu amigo es menor que tú.\n",
      "38  es mayor que 36 \n",
      " Tu amigo tiene a lo más, tu edad.\n"
     ]
    }
   ],
   "source": [
    "%run ejemplo1_c2.py"
   ]
  }
 ],
 "metadata": {
  "kernelspec": {
   "display_name": "Python 3",
   "language": "python",
   "name": "python3"
  },
  "language_info": {
   "codemirror_mode": {
    "name": "ipython",
    "version": 3
   },
   "file_extension": ".py",
   "mimetype": "text/x-python",
   "name": "python",
   "nbconvert_exporter": "python",
   "pygments_lexer": "ipython3",
   "version": "3.8.8"
  }
 },
 "nbformat": 4,
 "nbformat_minor": 5
}
